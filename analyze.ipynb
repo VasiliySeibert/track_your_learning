{
 "cells": [
  {
   "cell_type": "code",
   "execution_count": null,
   "metadata": {},
   "outputs": [],
   "source": [
    "import csv\n",
    "import pandas\n",
    "import numpy as np\n",
    "import matplotlib.pyplot as plt\n",
    "import pathlib\n",
    "import json\n",
    "import os\n",
    "import time\n",
    "import random\n",
    "import sys"
   ]
  },
  {
   "cell_type": "code",
   "execution_count": null,
   "metadata": {},
   "outputs": [],
   "source": [
    "current_date = f\"{time.localtime().tm_year}-{time.localtime().tm_mon}-{time.localtime().tm_mday}\"\n",
    "path = pathlib.Path(__file__).parent.absolute()"
   ]
  },
  {
   "cell_type": "code",
   "execution_count": null,
   "metadata": {},
   "outputs": [],
   "source": [
    "def read_csv(path):\n",
    "    # reads the study csv and returns a list with dict\n",
    "    collect = []\n",
    "\n",
    "    with open (path, \"r\", newline=\"\") as file:\n",
    "        reader = csv.DictReader(file)\n",
    "        for row in reader:\n",
    "            collect.append(row)\n",
    "\n",
    "    return collect"
   ]
  },
  {
   "cell_type": "code",
   "execution_count": null,
   "metadata": {},
   "outputs": [],
   "source": [
    "def write_new_file(path, questions):\n",
    "    with open (path, \"w\", newline=\"\") as file:\n",
    "        fieldnames = list(questions[0])\n",
    "        writer = csv.DictWriter(file, fieldnames=fieldnames)\n",
    "        writer.writeheader()\n",
    "        for question in questions:\n",
    "            print(question)\n",
    "            writer.writerow(question)"
   ]
  }
 ],
 "metadata": {
  "language_info": {
   "name": "python"
  },
  "orig_nbformat": 4
 },
 "nbformat": 4,
 "nbformat_minor": 2
}
