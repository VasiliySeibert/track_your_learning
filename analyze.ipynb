{
 "cells": [
  {
   "cell_type": "code",
   "execution_count": 149,
   "metadata": {},
   "outputs": [],
   "source": [
    "import csv\n",
    "import pandas\n",
    "import numpy as np\n",
    "import matplotlib.pyplot as plt\n",
    "import pathlib\n",
    "import json\n",
    "import os\n",
    "import time\n",
    "import random\n",
    "import sys"
   ]
  },
  {
   "cell_type": "code",
   "execution_count": 150,
   "metadata": {},
   "outputs": [],
   "source": [
    "current_date = f\"{time.localtime().tm_year}-{time.localtime().tm_mon}-{time.localtime().tm_mday}\"\n",
    "# path = pathlib.Path(__file__).parent.absolute() # works only with python skript\n",
    "path = \"/Users/vs21/track_your_learning\""
   ]
  },
  {
   "cell_type": "code",
   "execution_count": 151,
   "metadata": {},
   "outputs": [],
   "source": [
    "def read_csv(path):\n",
    "    # reads the study csv and returns a list with dict\n",
    "    collect = []\n",
    "\n",
    "    with open (path, \"r\", newline=\"\") as file:\n",
    "        reader = csv.DictReader(file)\n",
    "        for row in reader:\n",
    "            collect.append(row)\n",
    "\n",
    "    return collect"
   ]
  },
  {
   "cell_type": "code",
   "execution_count": 152,
   "metadata": {},
   "outputs": [],
   "source": [
    "def write_new_file(path, questions):\n",
    "    with open (path, \"w\", newline=\"\") as file:\n",
    "        fieldnames = list(questions[0])\n",
    "        writer = csv.DictWriter(file, fieldnames=fieldnames)\n",
    "        writer.writeheader()\n",
    "        for question in questions:\n",
    "            print(question)\n",
    "            writer.writerow(question)"
   ]
  },
  {
   "cell_type": "code",
   "execution_count": 153,
   "metadata": {},
   "outputs": [],
   "source": [
    "def find_directories(path):\n",
    "    collect = []\n",
    "    for dirs in os.walk(path):\n",
    "        dir_ = dirs[0]\n",
    "        if \".\" not in dir_:\n",
    "            collect.append(dir_)  \n",
    "\n",
    "    return collect"
   ]
  },
  {
   "cell_type": "code",
   "execution_count": 154,
   "metadata": {},
   "outputs": [
    {
     "data": {
      "text/plain": [
       "['/Users/vs21/track_your_learning/data',\n",
       " '/Users/vs21/track_your_learning/data/Topic_2',\n",
       " '/Users/vs21/track_your_learning/data/Topic_2/Sub_Topic_1',\n",
       " '/Users/vs21/track_your_learning/data/Topic_2/Sub_Topic_1/Sub_Sub_Topic_1',\n",
       " '/Users/vs21/track_your_learning/data/Topic_2/Sub_Topic_1/Sub_Sub_Topic_2',\n",
       " '/Users/vs21/track_your_learning/data/Topic_1',\n",
       " '/Users/vs21/track_your_learning/data/Topic_1/Sub_Topic_1',\n",
       " '/Users/vs21/track_your_learning/data/Topic_1/Sub_Topic_1/Sub_Sub_Topic_1',\n",
       " '/Users/vs21/track_your_learning/data/Topic_1/Sub_Topic_1/Sub_Sub_Topic_2']"
      ]
     },
     "execution_count": 154,
     "metadata": {},
     "output_type": "execute_result"
    }
   ],
   "source": [
    "find_directories(\"/Users/vs21/track_your_learning/data\")"
   ]
  },
  {
   "cell_type": "code",
   "execution_count": 155,
   "metadata": {},
   "outputs": [],
   "source": [
    "# check in for loop if there is a study.csv\n",
    "def check_for_studyFile(path):\n",
    "    for element in os.listdir(path):\n",
    "        if element == \"study.csv\": return True"
   ]
  },
  {
   "cell_type": "code",
   "execution_count": 156,
   "metadata": {},
   "outputs": [
    {
     "data": {
      "text/plain": [
       "True"
      ]
     },
     "execution_count": 156,
     "metadata": {},
     "output_type": "execute_result"
    }
   ],
   "source": [
    "check_for_studyFile(\"/Users/vs21/track_your_learning/data/Topic_1\")"
   ]
  },
  {
   "cell_type": "code",
   "execution_count": 157,
   "metadata": {},
   "outputs": [],
   "source": [
    "def find_all_studyFiles(path):\n",
    "    collect = []\n",
    "    for dir in find_directories(\"/Users/vs21/track_your_learning/data\"):\n",
    "        if check_for_studyFile(dir) == True:\n",
    "            collect.append(dir + \"/study.csv\")\n",
    "            \n",
    "    return collect"
   ]
  },
  {
   "cell_type": "code",
   "execution_count": 158,
   "metadata": {},
   "outputs": [
    {
     "data": {
      "text/plain": [
       "['/Users/vs21/track_your_learning/data/Topic_2/study.csv',\n",
       " '/Users/vs21/track_your_learning/data/Topic_2/Sub_Topic_1/Sub_Sub_Topic_1/study.csv',\n",
       " '/Users/vs21/track_your_learning/data/Topic_2/Sub_Topic_1/Sub_Sub_Topic_2/study.csv',\n",
       " '/Users/vs21/track_your_learning/data/Topic_1/study.csv',\n",
       " '/Users/vs21/track_your_learning/data/Topic_1/Sub_Topic_1/Sub_Sub_Topic_1/study.csv',\n",
       " '/Users/vs21/track_your_learning/data/Topic_1/Sub_Topic_1/Sub_Sub_Topic_2/study.csv']"
      ]
     },
     "execution_count": 158,
     "metadata": {},
     "output_type": "execute_result"
    }
   ],
   "source": [
    "find_all_studyFiles(path)"
   ]
  },
  {
   "cell_type": "code",
   "execution_count": 164,
   "metadata": {},
   "outputs": [],
   "source": [
    "def analyze_studyFiles(all_studyFiles):\n",
    "    collect = []\n",
    "\n",
    "    for studyFile in find_all_studyFiles(path):\n",
    "        all_questions = read_csv(studyFile)\n",
    "        x = list(all_questions[0])[3:]\n",
    "        collect_ = []\n",
    "        for _ in x:\n",
    "            y = [] \n",
    "            for element in all_questions:\n",
    "                y.append(element[_])\n",
    "            all_f = y.count('f')\n",
    "            all_t = y.count('t')\n",
    "            collect_.append(all_t / (all_t + all_f))\n",
    "        collect.append({\"file\":studyFile, \"x\":x, \"y\":collect_})\n",
    "            \n",
    "\n",
    "\n",
    "    return collect"
   ]
  },
  {
   "cell_type": "code",
   "execution_count": 165,
   "metadata": {},
   "outputs": [
    {
     "data": {
      "text/plain": [
       "{'file': '/Users/vs21/track_your_learning/data/Topic_1/study.csv',\n",
       " 'x': ['2023-5-18',\n",
       "  '2023-5-19',\n",
       "  '2023-5-20',\n",
       "  '2023-5-21',\n",
       "  '2023-5-22',\n",
       "  '2023-5-23',\n",
       "  '2023-5-24',\n",
       "  '2023-5-25',\n",
       "  '2023-5-26',\n",
       "  '2023-5-27',\n",
       "  '2023-5-28',\n",
       "  '2023-5-29',\n",
       "  '2023-5-30'],\n",
       " 'y': [1.0, 0.0, 0.0, 0.4, 0.6, 0.8, 1.0, 1.0, 1.0, 1.0, 1.0, 1.0, 1.0]}"
      ]
     },
     "execution_count": 165,
     "metadata": {},
     "output_type": "execute_result"
    }
   ],
   "source": [
    "study_files = analyze_studyFiles(find_all_studyFiles(path))\n",
    "study_files[3]"
   ]
  },
  {
   "cell_type": "code",
   "execution_count": 172,
   "metadata": {},
   "outputs": [],
   "source": [
    "def plot_learningProgress(study_file):\n",
    "\n",
    "    title = study_file[\"file\"].replace(path, \"\").replace(\"study.csv\", \"\")\n",
    "\n",
    "    x = study_file[\"x\"]\n",
    "    y = study_file[\"y\"]\n",
    "\n",
    "    plt.title(title) \n",
    "    plt.ylim(-0.1,1.1)\n",
    "    plt.plot(x, y)\n",
    "    plt.xticks(rotation=90)\n",
    "\n",
    "    plt.savefig(study_file[\"file\"].replace(\"study.csv\", \"learning_progress.pdf\"))"
   ]
  },
  {
   "cell_type": "code",
   "execution_count": 173,
   "metadata": {},
   "outputs": [
    {
     "data": {
      "image/png": "[encoded data removed]",
      "text/plain": [
       "<Figure size 640x480 with 1 Axes>"
      ]
     },
     "metadata": {},
     "output_type": "display_data"
    }
   ],
   "source": [
    "plot_learningProgress(study_files[3])"
   ]
  },
  {
   "cell_type": "code",
   "execution_count": null,
   "metadata": {},
   "outputs": [],
   "source": []
  }
 ],
 "metadata": {
  "kernelspec": {
   "display_name": "track_learning",
   "language": "python",
   "name": "python3"
  },
  "language_info": {
   "codemirror_mode": {
    "name": "ipython",
    "version": 3
   },
   "file_extension": ".py",
   "mimetype": "text/x-python",
   "name": "python",
   "nbconvert_exporter": "python",
   "pygments_lexer": "ipython3",
   "version": "3.9.15"
  },
  "orig_nbformat": 4
 },
 "nbformat": 4,
 "nbformat_minor": 2
}
